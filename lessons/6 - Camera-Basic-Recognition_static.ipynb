{
 "cells": [
  {
   "cell_type": "markdown",
   "metadata": {},
   "source": [
    "# Camera-Basic-Recognition_static"
   ]
  },
  {
   "cell_type": "markdown",
   "metadata": {},
   "source": [
    "O Sistema deve identificar as provas a serem analisadas, independente de sua posição"
   ]
  },
  {
   "cell_type": "markdown",
   "metadata": {},
   "source": [
    "#### Desta forma haverá um delimitador na câmera, onde analizará apenas as informações contidas em seu espaço"
   ]
  },
  {
   "cell_type": "markdown",
   "metadata": {},
   "source": [
    "Identificação de alternativas"
   ]
  },
  {
   "cell_type": "code",
   "execution_count": 1,
   "metadata": {},
   "outputs": [],
   "source": [
    "import sys\n",
    "def identify_alternative(image,cropped):\n",
    "    try:\n",
    "        gray = cv2.cvtColor(cropped, cv2.COLOR_BGR2GRAY)\n",
    "        gray = cv2.medianBlur(gray, 5)\n",
    "\n",
    "\n",
    "        rows = gray.shape[0]\n",
    "        circles = cv2.HoughCircles(gray,cv2.HOUGH_GRADIENT,1,rows/10,param1=50,param2=30,minRadius=0, maxRadius=30)\n",
    "\n",
    "\n",
    "        if circles is not None:\n",
    "            circles = np.uint16(np.around(circles))\n",
    "            for i in circles[0, :]:\n",
    "                center = (i[0], i[1])\n",
    "                \n",
    "                #Ponto central\n",
    "                cv2.circle(image, center, 1, (255, 0, 0), 3)\n",
    "                \n",
    "                #Circulo externo\n",
    "                radius = i[2]\n",
    "                cv2.circle(image, center, radius, (0, 255, 0), 3)\n",
    "        cv2.imshow(\"detected circles\", image)                    \n",
    "    except:\n",
    "        cv2.destroyAllWindows()\n",
    "        exit(0)"
   ]
  },
  {
   "cell_type": "markdown",
   "metadata": {},
   "source": [
    "Detecção de Borda(Retângulo)"
   ]
  },
  {
   "cell_type": "code",
   "execution_count": 2,
   "metadata": {},
   "outputs": [],
   "source": [
    "# Crop window of observation we defined above\n",
    "def delimiter(image,color):\n",
    "    height, width = image.shape[:2]\n",
    "    # Define ROI Box Dimensions (Note some of these things should be outside the loop)\n",
    "    top_left_x = int(width / 8)\n",
    "    top_left_y = int((height / 2) + (height / 3))\n",
    "    bottom_right_x = int((width / 2.3) * 2)\n",
    "    bottom_right_y = int((height / 2) - (height / 3))\n",
    "    # Draw rectangular window for our region of interest\n",
    "    cv2.rectangle(image, (top_left_x,top_left_y), (bottom_right_x,bottom_right_y), color, 2)\n",
    "   \n",
    "    mask = np.zeros(image.shape[:2], dtype = \"uint8\")\n",
    "    cropped = image[bottom_right_y:top_left_y , top_left_x:bottom_right_x]  \n",
    "    cropped_mask = cv2.bitwise_and(image.copy(), image.copy(), mask = mask)\n",
    "    cropped_mask[bottom_right_y:top_left_y , top_left_x:bottom_right_x] = cropped\n",
    "    \n",
    "    return cropped_mask"
   ]
  },
  {
   "cell_type": "code",
   "execution_count": 3,
   "metadata": {},
   "outputs": [],
   "source": [
    "def identify_test(image):  \n",
    "    cropped_mask = delimiter(image,(0,255,0))\n",
    "    \n",
    "    identify_alternative(image,cropped_mask)"
   ]
  },
  {
   "cell_type": "code",
   "execution_count": 4,
   "metadata": {},
   "outputs": [],
   "source": [
    "def camera_processing():\n",
    "    \n",
    "    cap = cv2.VideoCapture(0)\n",
    "\n",
    "    while(True):        \n",
    "        ret, frame = cap.read()\n",
    "        frame = cv2.flip(frame,1)\n",
    "        identify_test(frame)\n",
    "        if cv2.waitKey(1) & 0xFF == ord('q'):\n",
    "            break\n",
    "    \n",
    "    cap.release()\n",
    "    cv2.destroyAllWindows()"
   ]
  },
  {
   "cell_type": "code",
   "execution_count": 5,
   "metadata": {},
   "outputs": [],
   "source": [
    "import numpy as np\n",
    "import imutils\n",
    "import sys\n",
    "import cv2\n",
    "\n",
    "camera_processing()\n",
    "\n",
    "cv2.waitKey(0)\n",
    "cv2.destroyAllWindows()"
   ]
  }
 ],
 "metadata": {
  "kernelspec": {
   "display_name": "Python 3",
   "language": "python",
   "name": "python3"
  },
  "language_info": {
   "codemirror_mode": {
    "name": "ipython",
    "version": 3
   },
   "file_extension": ".py",
   "mimetype": "text/x-python",
   "name": "python",
   "nbconvert_exporter": "python",
   "pygments_lexer": "ipython3",
   "version": "3.5.2"
  }
 },
 "nbformat": 4,
 "nbformat_minor": 2
}
